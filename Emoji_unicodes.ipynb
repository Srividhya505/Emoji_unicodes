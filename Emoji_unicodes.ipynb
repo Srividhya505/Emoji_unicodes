{
 "cells": [
  {
   "cell_type": "code",
   "execution_count": 1,
   "id": "e9e4c09b",
   "metadata": {},
   "outputs": [
    {
     "name": "stdout",
     "output_type": "stream",
     "text": [
      "Defaulting to user installation because normal site-packages is not writeable\n",
      "Collecting emot\n",
      "  Obtaining dependency information for emot from https://files.pythonhosted.org/packages/28/b3/3a0f1f66c448fc66aba69a73d6405a104fd973142594ee8bc5a5122e949c/emot-3.1-py3-none-any.whl.metadata\n",
      "  Downloading emot-3.1-py3-none-any.whl.metadata (396 bytes)\n",
      "Downloading emot-3.1-py3-none-any.whl (61 kB)\n",
      "   ---------------------------------------- 0.0/61.5 kB ? eta -:--:--\n",
      "   ---------------------------------------- 61.5/61.5 kB 1.7 MB/s eta 0:00:00\n",
      "Installing collected packages: emot\n",
      "Successfully installed emot-3.1\n"
     ]
    },
    {
     "name": "stderr",
     "output_type": "stream",
     "text": [
      "DEPRECATION: Loading egg at c:\\programdata\\anaconda3\\lib\\site-packages\\vboxapi-1.0-py3.11.egg is deprecated. pip 23.3 will enforce this behaviour change. A possible replacement is to use pip for package installation..\n"
     ]
    }
   ],
   "source": [
    "#Installing emot library\n",
    "\n",
    "!pip install emot"
   ]
  },
  {
   "cell_type": "code",
   "execution_count": 2,
   "id": "d7d6337c",
   "metadata": {},
   "outputs": [],
   "source": [
    "#create sample text data with emoji\n",
    "\n",
    "text1 = \"What are you saying . I am the boss , and why are you so \""
   ]
  },
  {
   "cell_type": "code",
   "execution_count": 5,
   "id": "c70a6dff",
   "metadata": {},
   "outputs": [],
   "source": [
    "# https://emojijoy.com/\n",
    "# https://unicode.org/emoji/charts/full-emoji-list.html\n",
    "# https://apps.timwhitlock.info/emoji/tables/unicode\n",
    "# Windows+. -> display emoji"
   ]
  },
  {
   "cell_type": "code",
   "execution_count": 6,
   "id": "42092e58",
   "metadata": {},
   "outputs": [],
   "source": [
    "import re\n",
    "from emot.emo_unicode import UNICODE_EMOJI\n",
    "\n",
    "from emot.emo_unicode import EMOTICONS_EMO"
   ]
  },
  {
   "cell_type": "code",
   "execution_count": 7,
   "id": "766d66c4",
   "metadata": {},
   "outputs": [
    {
     "data": {
      "text/plain": [
       "'What are you saying . I am the boss , and why are you so '"
      ]
     },
     "execution_count": 7,
     "metadata": {},
     "output_type": "execute_result"
    }
   ],
   "source": [
    "# Function for converting emojis into word\n",
    "\n",
    "def converting_emojis(text):\n",
    "\n",
    "    for emot in UNICODE_EMOJI:\n",
    "\n",
    "        text = text.replace(emot, \"_\".join(UNICODE_EMOJI[emot].replace(\",\",\"\")\\\n",
    "\n",
    "                                           .replace(\":\",\"\").split()))\n",
    "\n",
    "    return text\n",
    "\n",
    "converting_emojis(text1)"
   ]
  },
  {
   "cell_type": "code",
   "execution_count": 9,
   "id": "738360a9",
   "metadata": {},
   "outputs": [
    {
     "data": {
      "text/plain": [
       "'What are you saying . I am the boss , and why are you so '"
      ]
     },
     "execution_count": 9,
     "metadata": {},
     "output_type": "execute_result"
    }
   ],
   "source": [
    "def emoji_removal(string):\n",
    "\n",
    "    emoji_unicodes = re.compile(\"[\"\n",
    "\n",
    "                               u\"\\U0001F600-\\U0001F64F\"  # emoticons\n",
    "\n",
    "                               u\"\\U0001F300-\\U0001F5FF\"  # symbols \n",
    "\n",
    "                               u\"\\U0001F680-\\U0001F6FF\"  # transport \n",
    "\n",
    "                               u\"\\U0001F1E0-\\U0001F1FF\"  # flags (iOS)\n",
    "\n",
    "                               u\"\\U00002500-\\U00002BEF\"  \n",
    "\n",
    "                               u\"\\U00002702-\\U000027B0\"\n",
    "\n",
    "                               u\"\\U000024C2-\\U0001F251\"\n",
    "\n",
    "                               u\"\\U0001f926-\\U0001f937\"\n",
    "\n",
    "                               u\"\\U00010000-\\U0010ffff\"\n",
    "                                \n",
    "                               u\"\\u2640-\\u2642\"\n",
    "\n",
    "                               u\"\\u2600-\\u2B55\"\n",
    "\n",
    "                               u\"\\u200d\"\n",
    "\n",
    "                               u\"\\u23cf\"\n",
    "\n",
    "                               u\"\\u23e9\"\n",
    "\n",
    "                               u\"\\u231a\"\n",
    "\n",
    "                               u\"\\ufe0f\"  \n",
    "\n",
    "                               u\"\\u3030\"\n",
    "\n",
    "                               \"]+\", flags=re.UNICODE)\n",
    "    return emoji_unicodes.sub(r'', string)\n",
    "emoji_removal(text1)"
   ]
  },
  {
   "cell_type": "code",
   "execution_count": null,
   "id": "3e5573ab",
   "metadata": {},
   "outputs": [],
   "source": []
  }
 ],
 "metadata": {
  "kernelspec": {
   "display_name": "Python 3 (ipykernel)",
   "language": "python",
   "name": "python3"
  },
  "language_info": {
   "codemirror_mode": {
    "name": "ipython",
    "version": 3
   },
   "file_extension": ".py",
   "mimetype": "text/x-python",
   "name": "python",
   "nbconvert_exporter": "python",
   "pygments_lexer": "ipython3",
   "version": "3.11.4"
  }
 },
 "nbformat": 4,
 "nbformat_minor": 5
}
